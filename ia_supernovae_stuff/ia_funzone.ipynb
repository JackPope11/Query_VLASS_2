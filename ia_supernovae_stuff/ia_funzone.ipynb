{
 "cells": [
  {
   "cell_type": "code",
   "execution_count": 4,
   "metadata": {},
   "outputs": [],
   "source": [
    "import pandas as pd\n",
    "import matplotlib.pyplot as plt\n",
    "import plotly.express as px\n",
    "import numpy as np\n",
    "import csv\n",
    "import re\n",
    "import os\n",
    "from urllib.error import HTTPError\n",
    "from astropy.time import Time\n",
    "from astropy.coordinates import SkyCoord\n",
    "import astropy.units as u\n"
   ]
  },
  {
   "cell_type": "code",
   "execution_count": 5,
   "metadata": {},
   "outputs": [
    {
     "name": "stdout",
     "output_type": "stream",
     "text": [
      "d:\\summer_research_code\\Query_VLASS_2\n",
      "File downloaded to: VLASS_dyn_summary.php\n",
      "d:\\summer_research_code\\Query_VLASS_2\\ia_supernovae_stuff\n"
     ]
    }
   ],
   "source": [
    "# Move up one directory from ia_supernovae_stuff to Query_VLASS_2\n",
    "%cd ..\n",
    "\n",
    "# Now you should be in Query_VLASS_2, you can import the module\n",
    "import vlass_search as vs\n",
    "\n",
    "# After importing, if you want to go back to your working folder:\n",
    "%cd ia_supernovae_stuff"
   ]
  },
  {
   "cell_type": "markdown",
   "metadata": {},
   "source": [
    "### Function to Get Unique Part of Fits File"
   ]
  },
  {
   "cell_type": "code",
   "execution_count": 8,
   "metadata": {},
   "outputs": [],
   "source": [
    "import os\n",
    "from urllib.request import urlopen\n",
    "from contextlib import closing\n",
    "import numpy as np\n",
    "from astropy.coordinates import SkyCoord\n",
    "\n",
    "def get_unique_fits_part(name, epoch, c):\n",
    "    \"\"\"\n",
    "    Retrieves the unique part of the FITS file download link for a given source name, epoch, and coordinates.\n",
    "\n",
    "    Parameters\n",
    "    ----------\n",
    "    name : str\n",
    "        The name of the source.\n",
    "    epoch : str\n",
    "        The epoch of the observation (e.g., 'VLASS3.2').\n",
    "    coordinates : SkyCoord\n",
    "        The coordinates as a SkyCoord object.\n",
    "\n",
    "    Returns\n",
    "    -------\n",
    "    str\n",
    "        The unique part of the FITS download link or a message indicating failure.\n",
    "    \"\"\"\n",
    "    tiles = vs.get_tiles()\n",
    "    tilenames, epochs, obsdates = vs.search_tiles(tiles, c)\n",
    "    \n",
    "    # Assume that it is the same tile name regardless of epoch \n",
    "    tile = tilenames[0]\n",
    "\n",
    "    subtiles, c_tiles = vs.get_subtiles(tile, epoch)\n",
    "    print(\"Tile Found:\")\n",
    "    print(tile, epoch)\n",
    "    \n",
    "    # Find angular separation from the tiles to the location\n",
    "    dist = c.separation(c_tiles)\n",
    "    # Find tile with the smallest separation \n",
    "    subtile = subtiles[np.argmin(dist)]\n",
    "    \n",
    "    # Unique part of the link (e.g., tile and file name)\n",
    "    unique_part = \"%s/%s.I.iter1.image.pbcor.tt0.subim.fits\" % (tile, subtile[:-1])\n",
    "    \n",
    "    return unique_part  # Return the unique part of the link\n",
    "\n"
   ]
  },
  {
   "cell_type": "code",
   "execution_count": 7,
   "metadata": {},
   "outputs": [
    {
     "name": "stdout",
     "output_type": "stream",
     "text": [
      "https://archive-new.nrao.edu/vlass/quicklook/VLASS2.2/T20t14/\n",
      "Tile Found:\n",
      "T20t14 VLASS2.2\n"
     ]
    },
    {
     "data": {
      "text/plain": [
       "'T20t14/VLASS2.2.ql.T20t14.J103631+373000.10.2048.v1.I.iter1.image.pbcor.tt0.subim.fits'"
      ]
     },
     "execution_count": 7,
     "metadata": {},
     "output_type": "execute_result"
    }
   ],
   "source": [
    "from astropy.coordinates import SkyCoord\n",
    "from astropy import units as u\n",
    "\n",
    "# Example coordinates\n",
    "coord_str = \"10:35:32.09 +37:38:59.0\"\n",
    "c = SkyCoord(coord_str, unit=(u.hourangle, u.deg))\n",
    "\n",
    "# Example transient name and epoch\n",
    "name = \"ZTF17aabtvsy\"\n",
    "epoch = \"VLASS2.2\"\n",
    "\n",
    "get_unique_fits_part(name, epoch, c)"
   ]
  },
  {
   "cell_type": "code",
   "execution_count": 9,
   "metadata": {},
   "outputs": [],
   "source": [
    "df = pd.read_csv(\"final_ia_transients.csv\")"
   ]
  },
  {
   "cell_type": "code",
   "execution_count": 11,
   "metadata": {},
   "outputs": [
    {
     "ename": "KeyError",
     "evalue": "\"['Transient Name'] not in index\"",
     "output_type": "error",
     "traceback": [
      "\u001b[1;31m---------------------------------------------------------------------------\u001b[0m",
      "\u001b[1;31mKeyError\u001b[0m                                  Traceback (most recent call last)",
      "\u001b[1;32m~\\AppData\\Local\\Temp\\ipykernel_46480\\3559943004.py\u001b[0m in \u001b[0;36m<module>\u001b[1;34m\u001b[0m\n\u001b[0;32m     17\u001b[0m \u001b[1;33m\u001b[0m\u001b[0m\n\u001b[0;32m     18\u001b[0m \u001b[1;31m# Example usage\u001b[0m\u001b[1;33m\u001b[0m\u001b[1;33m\u001b[0m\u001b[0m\n\u001b[1;32m---> 19\u001b[1;33m \u001b[0madd_ra_dec_to_transients\u001b[0m\u001b[1;33m(\u001b[0m\u001b[1;34m'final_ia_transients.csv'\u001b[0m\u001b[1;33m,\u001b[0m \u001b[1;34m'ia_supernovae.csv'\u001b[0m\u001b[1;33m,\u001b[0m \u001b[1;34m'final_transients_with_coords.csv'\u001b[0m\u001b[1;33m)\u001b[0m\u001b[1;33m\u001b[0m\u001b[1;33m\u001b[0m\u001b[0m\n\u001b[0m",
      "\u001b[1;32m~\\AppData\\Local\\Temp\\ipykernel_46480\\3559943004.py\u001b[0m in \u001b[0;36madd_ra_dec_to_transients\u001b[1;34m(final_csv, supernovae_csv, output_csv)\u001b[0m\n\u001b[0;32m      7\u001b[0m \u001b[1;33m\u001b[0m\u001b[0m\n\u001b[0;32m      8\u001b[0m     \u001b[1;31m# Select only 'Transient Name', 'RA', and 'Dec' from the supernovae DataFrame\u001b[0m\u001b[1;33m\u001b[0m\u001b[1;33m\u001b[0m\u001b[0m\n\u001b[1;32m----> 9\u001b[1;33m     \u001b[0msupernovae_df\u001b[0m \u001b[1;33m=\u001b[0m \u001b[0msupernovae_df\u001b[0m\u001b[1;33m[\u001b[0m\u001b[1;33m[\u001b[0m\u001b[1;34m'Transient Name'\u001b[0m\u001b[1;33m,\u001b[0m \u001b[1;34m'RA'\u001b[0m\u001b[1;33m,\u001b[0m \u001b[1;34m'Dec'\u001b[0m\u001b[1;33m]\u001b[0m\u001b[1;33m]\u001b[0m\u001b[1;33m\u001b[0m\u001b[1;33m\u001b[0m\u001b[0m\n\u001b[0m\u001b[0;32m     10\u001b[0m \u001b[1;33m\u001b[0m\u001b[0m\n\u001b[0;32m     11\u001b[0m     \u001b[1;31m# Merge the DataFrames on 'Transient Name'\u001b[0m\u001b[1;33m\u001b[0m\u001b[1;33m\u001b[0m\u001b[0m\n",
      "\u001b[1;32m~\\AppData\\Roaming\\Python\\Python39\\site-packages\\pandas\\core\\frame.py\u001b[0m in \u001b[0;36m__getitem__\u001b[1;34m(self, key)\u001b[0m\n\u001b[0;32m   4106\u001b[0m             \u001b[1;32mif\u001b[0m \u001b[0mis_iterator\u001b[0m\u001b[1;33m(\u001b[0m\u001b[0mkey\u001b[0m\u001b[1;33m)\u001b[0m\u001b[1;33m:\u001b[0m\u001b[1;33m\u001b[0m\u001b[1;33m\u001b[0m\u001b[0m\n\u001b[0;32m   4107\u001b[0m                 \u001b[0mkey\u001b[0m \u001b[1;33m=\u001b[0m \u001b[0mlist\u001b[0m\u001b[1;33m(\u001b[0m\u001b[0mkey\u001b[0m\u001b[1;33m)\u001b[0m\u001b[1;33m\u001b[0m\u001b[1;33m\u001b[0m\u001b[0m\n\u001b[1;32m-> 4108\u001b[1;33m             \u001b[0mindexer\u001b[0m \u001b[1;33m=\u001b[0m \u001b[0mself\u001b[0m\u001b[1;33m.\u001b[0m\u001b[0mcolumns\u001b[0m\u001b[1;33m.\u001b[0m\u001b[0m_get_indexer_strict\u001b[0m\u001b[1;33m(\u001b[0m\u001b[0mkey\u001b[0m\u001b[1;33m,\u001b[0m \u001b[1;34m\"columns\"\u001b[0m\u001b[1;33m)\u001b[0m\u001b[1;33m[\u001b[0m\u001b[1;36m1\u001b[0m\u001b[1;33m]\u001b[0m\u001b[1;33m\u001b[0m\u001b[1;33m\u001b[0m\u001b[0m\n\u001b[0m\u001b[0;32m   4109\u001b[0m \u001b[1;33m\u001b[0m\u001b[0m\n\u001b[0;32m   4110\u001b[0m         \u001b[1;31m# take() does not accept boolean indexers\u001b[0m\u001b[1;33m\u001b[0m\u001b[1;33m\u001b[0m\u001b[0m\n",
      "\u001b[1;32m~\\AppData\\Roaming\\Python\\Python39\\site-packages\\pandas\\core\\indexes\\base.py\u001b[0m in \u001b[0;36m_get_indexer_strict\u001b[1;34m(self, key, axis_name)\u001b[0m\n\u001b[0;32m   6198\u001b[0m             \u001b[0mkeyarr\u001b[0m\u001b[1;33m,\u001b[0m \u001b[0mindexer\u001b[0m\u001b[1;33m,\u001b[0m \u001b[0mnew_indexer\u001b[0m \u001b[1;33m=\u001b[0m \u001b[0mself\u001b[0m\u001b[1;33m.\u001b[0m\u001b[0m_reindex_non_unique\u001b[0m\u001b[1;33m(\u001b[0m\u001b[0mkeyarr\u001b[0m\u001b[1;33m)\u001b[0m\u001b[1;33m\u001b[0m\u001b[1;33m\u001b[0m\u001b[0m\n\u001b[0;32m   6199\u001b[0m \u001b[1;33m\u001b[0m\u001b[0m\n\u001b[1;32m-> 6200\u001b[1;33m         \u001b[0mself\u001b[0m\u001b[1;33m.\u001b[0m\u001b[0m_raise_if_missing\u001b[0m\u001b[1;33m(\u001b[0m\u001b[0mkeyarr\u001b[0m\u001b[1;33m,\u001b[0m \u001b[0mindexer\u001b[0m\u001b[1;33m,\u001b[0m \u001b[0maxis_name\u001b[0m\u001b[1;33m)\u001b[0m\u001b[1;33m\u001b[0m\u001b[1;33m\u001b[0m\u001b[0m\n\u001b[0m\u001b[0;32m   6201\u001b[0m \u001b[1;33m\u001b[0m\u001b[0m\n\u001b[0;32m   6202\u001b[0m         \u001b[0mkeyarr\u001b[0m \u001b[1;33m=\u001b[0m \u001b[0mself\u001b[0m\u001b[1;33m.\u001b[0m\u001b[0mtake\u001b[0m\u001b[1;33m(\u001b[0m\u001b[0mindexer\u001b[0m\u001b[1;33m)\u001b[0m\u001b[1;33m\u001b[0m\u001b[1;33m\u001b[0m\u001b[0m\n",
      "\u001b[1;32m~\\AppData\\Roaming\\Python\\Python39\\site-packages\\pandas\\core\\indexes\\base.py\u001b[0m in \u001b[0;36m_raise_if_missing\u001b[1;34m(self, key, indexer, axis_name)\u001b[0m\n\u001b[0;32m   6250\u001b[0m \u001b[1;33m\u001b[0m\u001b[0m\n\u001b[0;32m   6251\u001b[0m             \u001b[0mnot_found\u001b[0m \u001b[1;33m=\u001b[0m \u001b[0mlist\u001b[0m\u001b[1;33m(\u001b[0m\u001b[0mensure_index\u001b[0m\u001b[1;33m(\u001b[0m\u001b[0mkey\u001b[0m\u001b[1;33m)\u001b[0m\u001b[1;33m[\u001b[0m\u001b[0mmissing_mask\u001b[0m\u001b[1;33m.\u001b[0m\u001b[0mnonzero\u001b[0m\u001b[1;33m(\u001b[0m\u001b[1;33m)\u001b[0m\u001b[1;33m[\u001b[0m\u001b[1;36m0\u001b[0m\u001b[1;33m]\u001b[0m\u001b[1;33m]\u001b[0m\u001b[1;33m.\u001b[0m\u001b[0munique\u001b[0m\u001b[1;33m(\u001b[0m\u001b[1;33m)\u001b[0m\u001b[1;33m)\u001b[0m\u001b[1;33m\u001b[0m\u001b[1;33m\u001b[0m\u001b[0m\n\u001b[1;32m-> 6252\u001b[1;33m             \u001b[1;32mraise\u001b[0m \u001b[0mKeyError\u001b[0m\u001b[1;33m(\u001b[0m\u001b[1;34mf\"{not_found} not in index\"\u001b[0m\u001b[1;33m)\u001b[0m\u001b[1;33m\u001b[0m\u001b[1;33m\u001b[0m\u001b[0m\n\u001b[0m\u001b[0;32m   6253\u001b[0m \u001b[1;33m\u001b[0m\u001b[0m\n\u001b[0;32m   6254\u001b[0m     \u001b[1;33m@\u001b[0m\u001b[0moverload\u001b[0m\u001b[1;33m\u001b[0m\u001b[1;33m\u001b[0m\u001b[0m\n",
      "\u001b[1;31mKeyError\u001b[0m: \"['Transient Name'] not in index\""
     ]
    }
   ],
   "source": [
    "import pandas as pd\n",
    "\n",
    "def add_ra_dec_to_transients(final_csv, supernovae_csv, output_csv):\n",
    "    # Load the CSV files\n",
    "    transients_df = pd.read_csv(final_csv)\n",
    "    supernovae_df = pd.read_csv(supernovae_csv)\n",
    "\n",
    "    # Select only 'Transient Name', 'RA', and 'Dec' from the supernovae DataFrame\n",
    "    supernovae_df = supernovae_df[['Transient Name', 'RA', 'Dec']]\n",
    "\n",
    "    # Merge the DataFrames on 'Transient Name'\n",
    "    merged_df = pd.merge(transients_df, supernovae_df, on='Transient Name', how='left')\n",
    "\n",
    "    # Save the updated DataFrame to a new CSV file\n",
    "    merged_df.to_csv(output_csv, index=False)\n",
    "    print(f\"RA and Dec columns added to {output_csv}\")\n",
    "\n",
    "# Example usage\n",
    "add_ra_dec_to_transients('final_ia_transients.csv', 'ia_supernovae.csv', 'final_transients_with_coords.csv')\n"
   ]
  }
 ],
 "metadata": {
  "kernelspec": {
   "display_name": "base",
   "language": "python",
   "name": "python3"
  },
  "language_info": {
   "codemirror_mode": {
    "name": "ipython",
    "version": 3
   },
   "file_extension": ".py",
   "mimetype": "text/x-python",
   "name": "python",
   "nbconvert_exporter": "python",
   "pygments_lexer": "ipython3",
   "version": "3.9.13"
  }
 },
 "nbformat": 4,
 "nbformat_minor": 2
}

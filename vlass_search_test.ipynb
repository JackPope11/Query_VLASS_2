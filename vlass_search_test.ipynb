{
 "cells": [
  {
   "cell_type": "code",
   "execution_count": 20,
   "metadata": {},
   "outputs": [],
   "source": [
    "import numpy as np\n",
    "import subprocess\n",
    "import os\n",
    "import sys\n",
    "import argparse\n",
    "import glob\n",
    "from astropy.io import fits as pyfits\n",
    "import matplotlib.pyplot as plt\n",
    "from urllib.request import urlopen\n",
    "from astropy.table import Table\n",
    "from astropy.coordinates import SkyCoord\n",
    "from astropy.wcs import WCS\n",
    "from astropy.time import Time"
   ]
  },
  {
   "cell_type": "code",
   "execution_count": 21,
   "metadata": {},
   "outputs": [],
   "source": [
    "fname = \"VLASS_dyn_summary.php\""
   ]
  },
  {
   "cell_type": "markdown",
   "metadata": {},
   "source": [
    "### Get Tiles Function"
   ]
  },
  {
   "cell_type": "code",
   "execution_count": 22,
   "metadata": {},
   "outputs": [
    {
     "name": "stdout",
     "output_type": "stream",
     "text": [
      "File downloaded to: VLASS_dyn_summary.php\n"
     ]
    }
   ],
   "source": [
    "import urllib.request\n",
    "\n",
    "url = 'https://archive-new.nrao.edu/vlass/VLASS_dyn_summary.php'\n",
    "output_file = 'VLASS_dyn_summary.php'\n",
    "\n",
    "urllib.request.urlretrieve(url, output_file)\n",
    "\n",
    "print(f'File downloaded to: {output_file}')"
   ]
  },
  {
   "cell_type": "code",
   "execution_count": 23,
   "metadata": {},
   "outputs": [],
   "source": [
    "def get_tiles():\n",
    "    \"\"\" Get tiles \n",
    "    I ran wget https://archive-new.nrao.edu/vlass/VLASS_dyn_summary.php\n",
    "    \"\"\"\n",
    "\n",
    "    inputf = open(fname, \"r\")\n",
    "    lines = inputf.readlines()\n",
    "    inputf.close()\n",
    "\n",
    "    header = list(filter(None, lines[0].split(\"  \")))\n",
    "    # get rid of white spaces\n",
    "    header = np.array([val.strip() for val in header])\n",
    "\n",
    "    names = []\n",
    "    dec_min = []\n",
    "    dec_max = []\n",
    "    ra_min = []\n",
    "    ra_max = []\n",
    "    obsdate = []\n",
    "    epoch = []\n",
    "\n",
    "    # Starting at lines[3], read in values\n",
    "    for line in lines[3:]:\n",
    "        dat = list(filter(None, line.split(\"  \"))) \n",
    "        dat = np.array([val.strip() for val in dat]) \n",
    "        names.append(dat[0])\n",
    "        dec_min.append(float(dat[1]))\n",
    "        dec_max.append(float(dat[2]))\n",
    "        ra_min.append(float(dat[3]))\n",
    "        ra_max.append(float(dat[4]))\n",
    "        obsdate.append(dat[6])\n",
    "        epoch.append(dat[5])\n",
    "\n",
    "    names = np.array(names)\n",
    "    dec_min = np.array(dec_min)\n",
    "    dec_max = np.array(dec_max)\n",
    "    ra_min = np.array(ra_min)\n",
    "    ra_max = np.array(ra_max)\n",
    "    obsdate = np.array(obsdate)\n",
    "    epoch = np.array(epoch)\n",
    "\n",
    "    return (names, dec_min, dec_max, ra_min, ra_max, epoch, obsdate)\n"
   ]
  },
  {
   "cell_type": "markdown",
   "metadata": {},
   "source": [
    "### Search Tiles Function\n"
   ]
  },
  {
   "cell_type": "code",
   "execution_count": 162,
   "metadata": {},
   "outputs": [
    {
     "data": {
      "text/plain": [
       "(array(['T01t01', 'T01t01', 'T01t01', ..., 'T32t02', 'T32t02', 'T32t02'],\n",
       "       dtype='<U6'),\n",
       " array([-40., -40., -40., ...,  85.,  85.,  85.]),\n",
       " array([-36., -36., -36., ...,  90.,  90.,  90.]),\n",
       " array([ 0.,  0.,  0., ..., 12., 12., 12.]),\n",
       " array([ 0.5,  0.5,  0.5, ..., 24. , 24. , 24. ]),\n",
       " array(['VLASS1.1', 'VLASS2.1', 'VLASS3.1', ..., 'VLASS3.1', 'VLASS2.1',\n",
       "        'VLASS1.1'], dtype='<U8'),\n",
       " array(['2018-02-07', '2020-10-25', '2023-06-06', ..., '2023-04-24',\n",
       "        '2020-08-29', '2017-09-29'], dtype='<U13'))"
      ]
     },
     "execution_count": 162,
     "metadata": {},
     "output_type": "execute_result"
    }
   ],
   "source": [
    "def search_tiles(tiles, c):\n",
    "    \"\"\" Now that you've processed the file, search for the given RA and Dec\n",
    "    \n",
    "    Parameters\n",
    "    ----------\n",
    "    c: SkyCoord object\n",
    "    \"\"\"\n",
    "    ra_h = c.ra.hour\n",
    "    dec_d = c.dec.deg\n",
    "    names, dec_min, dec_max, ra_min, ra_max, epochs, obsdate = tiles\n",
    "    has_dec = np.logical_and(dec_d > dec_min, dec_d < dec_max)\n",
    "    has_ra = np.logical_and(ra_h > ra_min, ra_h < ra_max)\n",
    "    in_tile = np.logical_and(has_ra, has_dec)\n",
    "    name = names[in_tile]\n",
    "    epoch = epochs[in_tile]\n",
    "    date = obsdate[in_tile]\n",
    "    if len(name) == 0:\n",
    "        print(\"Sorry, no tile found.\")\n",
    "        return None, None, None\n",
    "    else:\n",
    "        return name, epoch, date\n"
   ]
  },
  {
   "cell_type": "markdown",
   "metadata": {},
   "source": [
    "### Get Subtiles Function"
   ]
  },
  {
   "cell_type": "code",
   "execution_count": 160,
   "metadata": {},
   "outputs": [
    {
     "name": "stdout",
     "output_type": "stream",
     "text": [
      "https://archive-new.nrao.edu/vlass/quicklook/VLASS1.2v2/T21t17/\n"
     ]
    },
    {
     "data": {
      "text/plain": [
       "(array(['VLASS1.2.ql.T21t17.J160236+403000.10.2048.v1/',\n",
       "        'VLASS1.2.ql.T21t17.J160239+413000.10.2048.v1/',\n",
       "        'VLASS1.2.ql.T21t17.J160241+423000.10.2048.v1/',\n",
       "        'VLASS1.2.ql.T21t17.J160244+433000.10.2048.v1/',\n",
       "        'VLASS1.2.ql.T21t17.J160749+403000.10.2048.v1/',\n",
       "        'VLASS1.2.ql.T21t17.J160757+413000.10.2048.v1/',\n",
       "        'VLASS1.2.ql.T21t17.J160804+423000.10.2048.v1/',\n",
       "        'VLASS1.2.ql.T21t17.J160812+433000.10.2048.v1/',\n",
       "        'VLASS1.2.ql.T21t17.J161303+403000.10.2048.v1/',\n",
       "        'VLASS1.2.ql.T21t17.J161315+413000.10.2048.v1/',\n",
       "        'VLASS1.2.ql.T21t17.J161327+423000.10.2048.v1/',\n",
       "        'VLASS1.2.ql.T21t17.J161340+433000.10.2048.v1/',\n",
       "        'VLASS1.2.ql.T21t17.J161816+403000.10.2048.v1/',\n",
       "        'VLASS1.2.ql.T21t17.J161833+413000.10.2048.v1/',\n",
       "        'VLASS1.2.ql.T21t17.J161850+423000.10.2048.v1/',\n",
       "        'VLASS1.2.ql.T21t17.J161908+433000.10.2048.v1/',\n",
       "        'VLASS1.2.ql.T21t17.J162329+403000.10.2048.v1/',\n",
       "        'VLASS1.2.ql.T21t17.J162351+413000.10.2048.v1/',\n",
       "        'VLASS1.2.ql.T21t17.J162413+423000.10.2048.v1/',\n",
       "        'VLASS1.2.ql.T21t17.J162436+433000.10.2048.v1/',\n",
       "        'VLASS1.2.ql.T21t17.J162843+403000.10.2048.v1/',\n",
       "        'VLASS1.2.ql.T21t17.J162909+413000.10.2048.v1/',\n",
       "        'VLASS1.2.ql.T21t17.J162936+423000.10.2048.v1/',\n",
       "        'VLASS1.2.ql.T21t17.J163004+433000.10.2048.v1/',\n",
       "        'VLASS1.2.ql.T21t17.J163356+403000.10.2048.v1/',\n",
       "        'VLASS1.2.ql.T21t17.J163427+413000.10.2048.v1/',\n",
       "        'VLASS1.2.ql.T21t17.J163459+423000.10.2048.v1/',\n",
       "        'VLASS1.2.ql.T21t17.J163533+433000.10.2048.v1/',\n",
       "        'VLASS1.2.ql.T21t17.J163909+403000.10.2048.v1/',\n",
       "        'VLASS1.2.ql.T21t17.J163945+413000.10.2048.v1/',\n",
       "        'VLASS1.2.ql.T21t17.J164022+423000.10.2048.v1/',\n",
       "        'VLASS1.2.ql.T21t17.J164101+433000.10.2048.v1/',\n",
       "        'VLASS1.2.ql.T21t17.J164423+403000.10.2048.v1/',\n",
       "        'VLASS1.2.ql.T21t17.J164503+413000.10.2048.v1/',\n",
       "        'VLASS1.2.ql.T21t17.J164545+423000.10.2048.v1/',\n",
       "        'VLASS1.2.ql.T21t17.J164629+433000.10.2048.v1/',\n",
       "        'VLASS1.2.ql.T21t17.J164936+403000.10.2048.v1/',\n",
       "        'VLASS1.2.ql.T21t17.J165021+413000.10.2048.v1/',\n",
       "        'VLASS1.2.ql.T21t17.J165108+423000.10.2048.v1/',\n",
       "        'VLASS1.2.ql.T21t17.J165157+433000.10.2048.v1/',\n",
       "        'VLASS1.2.ql.T21t17.J165449+403000.10.2048.v1/',\n",
       "        'VLASS1.2.ql.T21t17.J165539+413000.10.2048.v1/',\n",
       "        'VLASS1.2.ql.T21t17.J165630+423000.10.2048.v1/',\n",
       "        'VLASS1.2.ql.T21t17.J165720+433000.10.2048.v1/',\n",
       "        'VLASS1.2.ql.T21t17.J165843+403000.10.2048.v1/',\n",
       "        'VLASS1.2.ql.T21t17.J165909+413000.10.2048.v1/',\n",
       "        'VLASS1.2.ql.T21t17.J165936+423000.10.2048.v1/'], dtype='<U45'),\n",
       " <SkyCoord (ICRS): (ra, dec) in deg\n",
       "     [(240.65      , 40.5), (240.6625    , 41.5), (240.67083333, 42.5),\n",
       "      (240.68333333, 43.5), (241.95416667, 40.5), (241.9875    , 41.5),\n",
       "      (242.01666667, 42.5), (242.05      , 43.5), (243.2625    , 40.5),\n",
       "      (243.3125    , 41.5), (243.3625    , 42.5), (243.41666667, 43.5),\n",
       "      (244.56666667, 40.5), (244.6375    , 41.5), (244.70833333, 42.5),\n",
       "      (244.78333333, 43.5), (245.87083333, 40.5), (245.9625    , 41.5),\n",
       "      (246.05416667, 42.5), (246.15      , 43.5), (247.17916667, 40.5),\n",
       "      (247.2875    , 41.5), (247.4       , 42.5), (247.51666667, 43.5),\n",
       "      (248.48333333, 40.5), (248.6125    , 41.5), (248.74583333, 42.5),\n",
       "      (248.8875    , 43.5), (249.7875    , 40.5), (249.9375    , 41.5),\n",
       "      (250.09166667, 42.5), (250.25416667, 43.5), (251.09583333, 40.5),\n",
       "      (251.2625    , 41.5), (251.4375    , 42.5), (251.62083333, 43.5),\n",
       "      (252.4       , 40.5), (252.5875    , 41.5), (252.78333333, 42.5),\n",
       "      (252.9875    , 43.5), (253.70416667, 40.5), (253.9125    , 41.5),\n",
       "      (254.125     , 42.5), (254.33333333, 43.5), (254.67916667, 40.5),\n",
       "      (254.7875    , 41.5), (254.9       , 42.5)]>)"
      ]
     },
     "execution_count": 160,
     "metadata": {},
     "output_type": "execute_result"
    }
   ],
   "source": [
    "def get_subtiles(tilename, epoch):\n",
    "    \"\"\" For a given tile name, get the filenames in the VLASS directory.\n",
    "    Parse those filenames and return a list of subtile RA and Dec.\n",
    "    RA and Dec returned as a SkyCoord object\n",
    "    \"\"\"\n",
    "    if epoch =='VLASS1.2':\n",
    "        epoch = 'VLASS1.2v2'\n",
    "    elif epoch =='VLASS1.1':\n",
    "        epoch = 'VLASS1.1v2'\n",
    "    url_full = 'https://archive-new.nrao.edu/vlass/quicklook/%s/%s/' %(epoch,tilename)\n",
    "    print(url_full)\n",
    "    urlpath = urlopen(url_full)\n",
    "    # Get site HTML coding\n",
    "    string = (urlpath.read().decode('utf-8')).split(\"\\n\")\n",
    "    # clean the HTML elements of trailing and leading whitespace\n",
    "    vals = np.array([val.strip() for val in string])\n",
    "    # Make list of HTML link elements\n",
    "    keep_link = np.array([\"href\" in val.strip() for val in string])\n",
    "    # Make list of HTML elements with the tile name\n",
    "    keep_name = np.array([tilename in val.strip() for val in string])\n",
    "    # Cross reference the two lists above to keep only the HTML elements with the tile name and a link\n",
    "    string_keep = vals[np.logical_and(keep_link, keep_name)]\n",
    "    # Keep only the links from the HTML elements (they are the 7th element since 6 quote marks precede it)\n",
    "    fname = np.array([val.split(\"\\\"\")[7] for val in string_keep])\n",
    "    # Take out the element of the link that encodes the RA and declination\n",
    "    pos_raw = np.array([val.split(\".\")[4] for val in fname])\n",
    "    if '-' in pos_raw[0]:\n",
    "        # dec < 0\n",
    "        ra_raw = np.array([val.split(\"-\")[0] for val in pos_raw])\n",
    "        dec_raw = np.array([val.split(\"-\")[1] for val in pos_raw])\n",
    "    else:\n",
    "        # dec > 0\n",
    "        ra_raw = np.array([val.split(\"+\")[0] for val in pos_raw])\n",
    "        dec_raw = np.array([val.split(\"+\")[1] for val in pos_raw])\n",
    "    ra = []\n",
    "    dec = []\n",
    "    for ii,val in enumerate(ra_raw):\n",
    "        # 24 hours is the same as hour 0\n",
    "        if val[1:3] == '24':\n",
    "            rah = '00'\n",
    "        else:\n",
    "            rah = val[1:3]\n",
    "        # calculate RA in hours mins and seconds\n",
    "        hms = \"%sh%sm%ss\" %(rah, val[3:5], val[5:])\n",
    "        ra.append(hms)\n",
    "        # calculate Dec in degrees arcminutes and arcseconds\n",
    "        dms = \"%sd%sm%ss\" %(\n",
    "                dec_raw[ii][0:2], dec_raw[ii][2:4], dec_raw[ii][4:])\n",
    "        dec.append(dms)\n",
    "    ra = np.array(ra)\n",
    "    dec = np.array(dec)\n",
    "    c_tiles = SkyCoord(ra, dec, frame='icrs')\n",
    "    return fname, c_tiles\n",
    "\n",
    "get_subtiles('T21t17','VLASS1.2')"
   ]
  },
  {
   "cell_type": "markdown",
   "metadata": {},
   "source": [
    "### Get Cutout Function"
   ]
  },
  {
   "cell_type": "code",
   "execution_count": 127,
   "metadata": {},
   "outputs": [],
   "source": [
    "def get_cutout(imname, name, c, epoch):\n",
    "    print(\"Generating cutout\")\n",
    "    # Position of source\n",
    "    ra_deg = c.ra.deg\n",
    "    dec_deg = c.dec.deg\n",
    "\n",
    "    print(\"Cutout centered at position %s, %s\" %(ra_deg, dec_deg))\n",
    "\n",
    "    # Open image and establish coordinate system\n",
    "    im = pyfits.open(imname, ignore_missing_simple=True)[0].data[0,0]\n",
    "    w = WCS(imname)\n",
    "\n",
    "    # Find the source position in pixels.\n",
    "    # This will be the center of our image.\n",
    "    src_pix = w.wcs_world2pix([[ra_deg, dec_deg, 0, 0]], 0)\n",
    "    x = src_pix[0,0]\n",
    "    y = src_pix[0,1]\n",
    "\n",
    "    # Check if the source is actually in the image\n",
    "    pix1 = pyfits.open(imname)[0].header['CRPIX1']\n",
    "    pix2 = pyfits.open(imname)[0].header['CRPIX2']\n",
    "    badx = np.logical_or(x < 0, x > 2 * pix1)\n",
    "    bady = np.logical_or(y < 0, y > 2 * pix2)\n",
    "    if np.logical_and(badx, bady):\n",
    "        print(\"Tile has not been imaged at the position of the source\")\n",
    "        return None\n",
    "    else:\n",
    "        # Set the dimensions of the image\n",
    "        # Say we want it to be 12 arcseconds on a side,\n",
    "        # to match the DES images\n",
    "        image_dim_arcsec = 12\n",
    "        delt1 = pyfits.open(imname)[0].header['CDELT1']\n",
    "        delt2 = pyfits.open(imname)[0].header['CDELT2']\n",
    "        cutout_size = image_dim_arcsec / 3600     # in degrees\n",
    "        dside1 = -cutout_size/2./delt1\n",
    "        dside2 = cutout_size/2./delt2\n",
    "        \n",
    "        vmin = -1e-4\n",
    "        vmax = 1e-3\n",
    "\n",
    "        im_plot_raw = im[int(y - dside1):int(y + dside1), int(x - dside2):int(x + dside2)]\n",
    "        im_plot = np.ma.masked_invalid(im_plot_raw)\n",
    "\n",
    "        \n",
    "        # 3-sigma clipping (find root mean square of values that are not above 3 standard deviations)\n",
    "        rms_temp = np.ma.std(im_plot)\n",
    "        keep = np.ma.abs(im_plot) <= 3*rms_temp\n",
    "        rms = np.ma.std(im_plot[keep])\n",
    "\n",
    "        # Find peak flux in entire image\n",
    "        peak_flux = np.ma.max(im_plot.flatten())\n",
    "\n",
    "        plt.imshow(\n",
    "                np.flipud(im_plot),\n",
    "                extent = [-0.5*cutout_size*3600., 0.5*cutout_size*3600.,\n",
    "                        -0.5*cutout_size*3600., 0.5*cutout_size*3600],\n",
    "                vmin = vmin, vmax = vmax, cmap='YlOrRd')\n",
    "        \n",
    "        peakstr = \"Peak Flux %s mJy\" %(np.round(peak_flux*1e3, 3))\n",
    "        rmsstr = \"RMS Flux %s mJy\" %(np.round(rms*1e3, 3))\n",
    "\n",
    "        plt.title(name + \": %s; \\n %s\" %(peakstr, rmsstr))\n",
    "        plt.xlabel(\"Offset in RA (arcsec)\")\n",
    "        plt.ylabel(\"Offset in Dec (arcsec)\")\n",
    "\n",
    "        plt.savefig(name + \"_\" + epoch + \".png\") \n",
    "        plt.close()\n",
    "        print(\"PNG Downloaded Successfully\")\n",
    "\n",
    "        return peak_flux, rms"
   ]
  },
  {
   "cell_type": "markdown",
   "metadata": {},
   "source": [
    "### Run Search Function"
   ]
  },
  {
   "cell_type": "code",
   "execution_count": 154,
   "metadata": {},
   "outputs": [],
   "source": [
    "def run_search(name, c, date=None):\n",
    "    \"\"\" \n",
    "    Searches the VLASS catalog for a source\n",
    "\n",
    "    Parameters\n",
    "    ----------\n",
    "    names: name of the sources\n",
    "    c: coordinates as SkyCoord object\n",
    "    date: date in astropy Time format\n",
    "    \"\"\"\n",
    "    print(\"Running for %s\" %name)\n",
    "    print(\"Coordinates %s\" %c)\n",
    "    print(\"Date: %s\" %date)\n",
    "\n",
    "    # Find the VLASS tile(s)\n",
    "    tiles = get_tiles()\n",
    "    tilenames, epochs, obsdates = search_tiles(tiles, c)\n",
    "\n",
    "    past_epochs = [\"VLASS1.1v2\", \"VLASS1.2v2\", \"VLASS2.1\", \"VLASS2.2\", \"VLASS3.1\"]\n",
    "    current_epoch = \"VLASS3.2\"\n",
    "\n",
    "    if tilenames[0] is None:\n",
    "        print(\"There is no VLASS tile at this location\")\n",
    "\n",
    "    else:\n",
    "        for ii,tilename in enumerate(tilenames):\n",
    "            print()\n",
    "            print(\"Looking for tile observation for %s\" %tilename)\n",
    "            epoch = epochs[ii]\n",
    "            obsdate = obsdates[ii]\n",
    "            # Adjust name so it works with the version 2 ones for 1.1 and 1.2\n",
    "            if epoch=='VLASS1.2':\n",
    "                epoch = 'VLASS1.2v2'\n",
    "            elif epoch =='VLASS1.1':\n",
    "                epoch = 'VLASS1.1v2'\n",
    "        \n",
    "            if epoch not in past_epochs:\n",
    "                if epoch == current_epoch:\n",
    "                    # Make list of observed tiles \n",
    "                    url_full = 'https://archive-new.nrao.edu/vlass/quicklook/%s/' %(epoch)\n",
    "                    urlpath = urlopen(url_full)\n",
    "                    # Get site HTML coding\n",
    "                    string = (urlpath.read().decode('utf-8')).split(\"\\n\")\n",
    "                    # clean the HTML elements of trailing and leading whitespace\n",
    "                    vals = np.array([val.strip() for val in string])\n",
    "                    # Make list of useful html elements\n",
    "                    files = np.array(['alt=\"[DIR]\"' in val.strip() for val in string])\n",
    "                    useful = vals[files]\n",
    "                    # Splice out the name from the link\n",
    "                    obsname = np.array([val.split(\"\\\"\")[7] for val in useful])\n",
    "                    observed_current_epoch = np.char.replace(obsname, '/', '')\n",
    "\n",
    "                    # Check if tile has been observed yet for the current epoch\n",
    "                    if epoch not in observed_current_epoch:\n",
    "                        print(\"Sorry, tile will be observed later in this epoch\")\n",
    "                else:\n",
    "                    print(\"Sorry, tile will be observed in a later epoch\")\n",
    "            else:\n",
    "                print(\"Tile Found:\")\n",
    "                print(tilename, epoch)\n",
    "                subtiles, c_tiles = get_subtiles(tilename, epoch)\n",
    "                # Find angular separation from the tiles to the location\n",
    "                dist = c.separation(c_tiles)\n",
    "                # Find tile with the smallest separation \n",
    "                subtile = subtiles[np.argmin(dist)]\n",
    "                url_get = \"https://archive-new.nrao.edu/vlass/quicklook/%s/%s/%s\" %(\n",
    "                        epoch, tilename, subtile)\n",
    "                imname=\"%s.I.iter1.image.pbcor.tt0.subim.fits\" %subtile[0:-1]\n",
    "                fname = url_get + imname\n",
    "                print(fname)\n",
    "                if len(glob.glob(imname)) == 0:\n",
    "                    cmd = \"curl -O %s\" %fname\n",
    "                    print(cmd)\n",
    "                    os.system(cmd)\n",
    "                # Get image cutout and save FITS data as png\n",
    "                # out = cool_guy(imname, name, c, epoch)\n",
    "                out = get_cutout(imname, name, c, epoch)\n",
    "                if out is not None:\n",
    "                    peak, rms = out\n",
    "                    print(\"Peak flux is %s uJy\" %(peak*1e6))\n",
    "                    print(\"RMS is %s uJy\" %(rms*1e6))\n",
    "                    limit = rms*1e6\n",
    "                    obsdate = Time(obsdate, format='iso').mjd\n",
    "                    print(\"Tile observed on %s\" %obsdate)\n",
    "                    print(limit, obsdate)\n",
    "                # Remove FITS file\n",
    "                # os.remove(imname)"
   ]
  },
  {
   "cell_type": "code",
   "execution_count": 166,
   "metadata": {},
   "outputs": [
    {
     "name": "stdout",
     "output_type": "stream",
     "text": [
      "Running for MAXI\n",
      "Coordinates <SkyCoord (ICRS): (ra, dec) in deg\n",
      "    (182.5055, 49.94639056)>\n",
      "Date: None\n",
      "\n",
      "Looking for tile observation for T23t13\n",
      "Tile Found:\n",
      "T23t13 VLASS3.1\n",
      "https://archive-new.nrao.edu/vlass/quicklook/VLASS3.1/T23t13/\n",
      "https://archive-new.nrao.edu/vlass/quicklook/VLASS3.1/T23t13/VLASS3.1.ql.T23t13.J120908+493000.10.2048.v1/VLASS3.1.ql.T23t13.J120908+493000.10.2048.v1.I.iter1.image.pbcor.tt0.subim.fits\n",
      "Generating cutout\n",
      "Cutout centered at position 182.50549999999996, 49.94639055555555\n",
      "Peak flux is 1647.0331465825438 uJy\n",
      "RMS is 194.1104032285583 uJy\n",
      "Tile observed on 59979.0\n",
      "194.1104032285583 59979.0\n",
      "\n",
      "Looking for tile observation for T23t13\n",
      "Tile Found:\n",
      "T23t13 VLASS2.1\n",
      "https://archive-new.nrao.edu/vlass/quicklook/VLASS2.1/T23t13/\n"
     ]
    },
    {
     "name": "stderr",
     "output_type": "stream",
     "text": [
      "WARNING: FITSFixedWarning: 'datfix' made the change 'Set MJD-OBS to 59979.271646 from DATE-OBS.\n",
      "Set MJD-END to 59979.297146 from DATE-END'. [astropy.wcs.wcs]\n",
      "WARNING: FITSFixedWarning: 'obsfix' made the change 'Set OBSGEO-L to  -107.618000 from OBSGEO-[XYZ].\n",
      "Set OBSGEO-B to    34.078827 from OBSGEO-[XYZ].\n",
      "Set OBSGEO-H to     2115.607 from OBSGEO-[XYZ]'. [astropy.wcs.wcs]\n"
     ]
    },
    {
     "name": "stdout",
     "output_type": "stream",
     "text": [
      "https://archive-new.nrao.edu/vlass/quicklook/VLASS2.1/T23t13/VLASS2.1.ql.T23t13.J120908+493000.10.2048.v1/VLASS2.1.ql.T23t13.J120908+493000.10.2048.v1.I.iter1.image.pbcor.tt0.subim.fits\n",
      "Generating cutout\n",
      "Cutout centered at position 182.50549999999996, 49.94639055555555\n",
      "Peak flux is 3523.692488670349 uJy\n",
      "RMS is 298.083374783905 uJy\n",
      "Tile observed on 59062.0\n",
      "298.083374783905 59062.0\n",
      "\n",
      "Looking for tile observation for T23t13\n",
      "Tile Found:\n",
      "T23t13 VLASS1.1v2\n",
      "https://archive-new.nrao.edu/vlass/quicklook/VLASS1.1v2/T23t13/\n"
     ]
    },
    {
     "name": "stderr",
     "output_type": "stream",
     "text": [
      "WARNING: FITSFixedWarning: 'datfix' made the change 'Set MJD-OBS to 59062.936901 from DATE-OBS.\n",
      "Set MJD-END to 59062.962625 from DATE-END'. [astropy.wcs.wcs]\n"
     ]
    },
    {
     "name": "stdout",
     "output_type": "stream",
     "text": [
      "https://archive-new.nrao.edu/vlass/quicklook/VLASS1.1v2/T23t13/VLASS1.1.ql.T23t13.J120908+493000.10.2048.v1/VLASS1.1.ql.T23t13.J120908+493000.10.2048.v1.I.iter1.image.pbcor.tt0.subim.fits\n",
      "Generating cutout\n",
      "Cutout centered at position 182.50549999999996, 49.94639055555555\n",
      "Peak flux is 2652.069553732872 uJy\n",
      "RMS is 190.01485964289034 uJy\n",
      "Tile observed on 58077.0\n",
      "190.01485964289034 58077.0\n"
     ]
    },
    {
     "name": "stderr",
     "output_type": "stream",
     "text": [
      "WARNING: FITSFixedWarning: 'datfix' made the change 'Set MJD-OBS to 58077.765758 from DATE-OBS'. [astropy.wcs.wcs]\n"
     ]
    },
    {
     "data": {
      "text/plain": [
       "(array(['T21t17', 'T21t17', 'T21t17'], dtype='<U6'),\n",
       " array(['VLASS3.2', 'VLASS2.2', 'VLASS1.2'], dtype='<U8'),\n",
       " array(['Scheduled', '2021-11-14', '2019-05-04'], dtype='<U13'))"
      ]
     },
     "execution_count": 166,
     "metadata": {},
     "output_type": "execute_result"
    }
   ],
   "source": [
    "maxi_ra = \"12h10m01.32s\"\n",
    "maxi_dec = \"+49d56m47.006s\"\n",
    "maxi = SkyCoord(ra = maxi_ra, dec = maxi_dec)\n",
    "\n",
    "run_search(\"MAXI\", maxi)\n",
    "\n",
    "ra_fungi = \"16h43m48.201s\"\n",
    "dec_fungi = \"+41d02m43.38s\"\n",
    "first_guy = SkyCoord(ra = ra_fungi, dec = dec_fungi)\n",
    "\n",
    "search_tiles(get_tiles(), first_guy)"
   ]
  },
  {
   "cell_type": "code",
   "execution_count": 174,
   "metadata": {},
   "outputs": [
    {
     "name": "stdout",
     "output_type": "stream",
     "text": [
      "Running for SN2018gep\n",
      "Coordinates <SkyCoord (ICRS): (ra, dec) in deg\n",
      "    (250.9508375, 41.04538333)>\n",
      "Date: None\n",
      "\n",
      "Looking for tile observation for T21t17\n",
      "Sorry, tile will be observed later in this epoch\n",
      "\n",
      "Looking for tile observation for T21t17\n",
      "Tile Found:\n",
      "T21t17 VLASS2.2\n",
      "https://archive-new.nrao.edu/vlass/quicklook/VLASS2.2/T21t17/\n",
      "https://archive-new.nrao.edu/vlass/quicklook/VLASS2.2/T21t17/VLASS2.2.ql.T21t17.J164503+413000.10.2048.v1/VLASS2.2.ql.T21t17.J164503+413000.10.2048.v1.I.iter1.image.pbcor.tt0.subim.fits\n",
      "curl -O https://archive-new.nrao.edu/vlass/quicklook/VLASS2.2/T21t17/VLASS2.2.ql.T21t17.J164503+413000.10.2048.v1/VLASS2.2.ql.T21t17.J164503+413000.10.2048.v1.I.iter1.image.pbcor.tt0.subim.fits\n",
      "Generating cutout\n",
      "Cutout centered at position 250.95083749999995, 41.045383333333334\n",
      "Peak flux is 241.5875787846744 uJy\n",
      "RMS is 112.8708448274466 uJy\n",
      "Tile observed on 59532.0\n",
      "112.8708448274466 59532.0\n",
      "\n",
      "Looking for tile observation for T21t17\n",
      "Tile Found:\n",
      "T21t17 VLASS1.2v2\n",
      "https://archive-new.nrao.edu/vlass/quicklook/VLASS1.2v2/T21t17/\n"
     ]
    },
    {
     "name": "stderr",
     "output_type": "stream",
     "text": [
      "WARNING: FITSFixedWarning: 'datfix' made the change 'Set MJD-OBS to 59532.681521 from DATE-OBS.\n",
      "Set MJD-END to 59532.713745 from DATE-END'. [astropy.wcs.wcs]\n"
     ]
    },
    {
     "name": "stdout",
     "output_type": "stream",
     "text": [
      "https://archive-new.nrao.edu/vlass/quicklook/VLASS1.2v2/T21t17/VLASS1.2.ql.T21t17.J164503+413000.10.2048.v1/VLASS1.2.ql.T21t17.J164503+413000.10.2048.v1.I.iter1.image.pbcor.tt0.subim.fits\n",
      "curl -O https://archive-new.nrao.edu/vlass/quicklook/VLASS1.2v2/T21t17/VLASS1.2.ql.T21t17.J164503+413000.10.2048.v1/VLASS1.2.ql.T21t17.J164503+413000.10.2048.v1.I.iter1.image.pbcor.tt0.subim.fits\n",
      "Generating cutout\n",
      "Cutout centered at position 250.95083749999995, 41.045383333333334\n",
      "Peak flux is 297.11684328503907 uJy\n",
      "RMS is 134.05616850692218 uJy\n",
      "Tile observed on 58607.0\n",
      "134.05616850692218 58607.0\n"
     ]
    },
    {
     "name": "stderr",
     "output_type": "stream",
     "text": [
      "WARNING: FITSFixedWarning: 'datfix' made the change 'Set MJD-OBS to 58607.479747 from DATE-OBS'. [astropy.wcs.wcs]\n"
     ]
    }
   ],
   "source": [
    "run_search(\"SN2018gep\", first_guy)"
   ]
  },
  {
   "cell_type": "code",
   "execution_count": null,
   "metadata": {},
   "outputs": [],
   "source": [
    "\n",
    "if __name__==\"__main__\":\n",
    "    parser = argparse.ArgumentParser(description=\\\n",
    "        '''\n",
    "        Searches VLASS for a source.\n",
    "        User needs to supply name, RA (in decimal degrees),\n",
    "        Dec (in decimal degrees), and (optionally) date (in mjd).\n",
    "        If there is a date, then will only return VLASS images taken after that date\n",
    "        (useful for transients with known explosion dates).\n",
    "        \n",
    "        Usage: vlass_search.py <Name> <RA [deg]> <Dec [deg]> <(optional) Date [mjd]>\n",
    "        ''', formatter_class=argparse.RawTextHelpFormatter)\n",
    "        \n",
    "    #Check if correct number of arguments are given\n",
    "    if len(sys.argv) < 3:\n",
    "        print(\"Usage: vlass_search.py <Name> <RA [deg]> <Dec [deg]> <(optional) Date [astropy Time]>\")\n",
    "        sys.exit()\n",
    "     \n",
    "    name = str(sys.argv[1])\n",
    "    ra = float(sys.argv[2])\n",
    "    dec = float(sys.argv[3])\n",
    "    c = SkyCoord(ra, dec, unit='deg')\n",
    "\n",
    "    if glob.glob(\"/Users/annaho/Dropbox/astro/tools/Query_VLASS/VLASS_dyn_summary.php\"):\n",
    "        pass\n",
    "    else:\n",
    "        print(\"Tile summary file is not here. Download it using wget:\\\n",
    "               wget https://archive-new.nrao.edu/vlass/VLASS_dyn_summary.php\")\n",
    "\n",
    "    if (len(sys.argv) > 4):\n",
    "        date = Time(float(sys.argv[4]), format='mjd')\n",
    "        print ('Searching for observations after %s' %date)\n",
    "        run_search(name, c, date) \n",
    "    else:\n",
    "        print ('Searching all obs dates')\n",
    "        run_search(name, c) \n"
   ]
  }
 ],
 "metadata": {
  "kernelspec": {
   "display_name": "base",
   "language": "python",
   "name": "python3"
  },
  "language_info": {
   "codemirror_mode": {
    "name": "ipython",
    "version": 3
   },
   "file_extension": ".py",
   "mimetype": "text/x-python",
   "name": "python",
   "nbconvert_exporter": "python",
   "pygments_lexer": "ipython3",
   "version": "3.9.13"
  }
 },
 "nbformat": 4,
 "nbformat_minor": 2
}
